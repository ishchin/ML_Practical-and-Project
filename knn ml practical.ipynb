{
 "cells": [
  {
   "cell_type": "code",
   "execution_count": 1,
   "id": "81eacf9e-3140-4c35-bb40-0a56f32c876a",
   "metadata": {},
   "outputs": [
    {
     "name": "stdout",
     "output_type": "stream",
     "text": [
      "Euclidean distance between [1, 2] and [4, 6]: 5.0\n"
     ]
    }
   ],
   "source": [
    "import numpy as np\n",
    "from collections import Counter\n",
    "\n",
    "def euclidean_distance(point1, point2):\n",
    "    \"\"\"Calculates the Euclidean distance between two points.\"\"\"\n",
    "    return np.sqrt(np.sum((np.array(point1) - np.array(point2))**2))\n",
    "\n",
    "# Example usage:\n",
    "point1 = [1, 2]\n",
    "point2 = [4, 6]\n",
    "distance = euclidean_distance(point1, point2)\n",
    "print(f\"Euclidean distance between {point1} and {point2}: {distance}\")"
   ]
  },
  {
   "cell_type": "code",
   "execution_count": 3,
   "id": "4c79b943-14f5-4421-b766-39fc307c9a45",
   "metadata": {},
   "outputs": [
    {
     "name": "stdout",
     "output_type": "stream",
     "text": [
      "Predicted class for [3, 3.5]: B\n"
     ]
    }
   ],
   "source": [
    "def knn_predict(X_train, y_train, test_point, k):\n",
    "    \"\"\"\n",
    "    Predicts the class label for a new test point using the k-nearest neighbors.\n",
    "\n",
    "    Args:\n",
    "        X_train: Training data features (list of lists or numpy array).\n",
    "        y_train: Training data labels (list or numpy array).\n",
    "        test_point: The new data point to predict.\n",
    "        k: The number of neighbors to consider.\n",
    "\n",
    "    Returns:\n",
    "        The predicted class label (string or number).\n",
    "    \"\"\"\n",
    "\n",
    "    distances = []\n",
    "    # Calculate distances between the test point and all training points\n",
    "    for i in range(len(X_train)):\n",
    "        distance = euclidean_distance(test_point, X_train[i])\n",
    "        distances.append((distance, y_train[i])) # Store distance and label\n",
    "\n",
    "    # Sort distances to get k-nearest neighbors\n",
    "    distances.sort()\n",
    "\n",
    "    # Get the labels of the k-nearest neighbors\n",
    "    k_nearest_labels = [label for _, label in distances[:k]]\n",
    "\n",
    "    # Find the most frequent label among the k-nearest neighbors (majority voting)\n",
    "    most_common = Counter(k_nearest_labels).most_common(1)[0][0]\n",
    "    return most_common\n",
    "\n",
    "# Example usage:\n",
    "#  Replace with your actual training and test data\n",
    "X_train = [[1, 2], [2, 3], [3, 4], [4, 5]]\n",
    "y_train = ['A', 'A', 'B', 'B']\n",
    "new_point = [3, 3.5]\n",
    "k = 3\n",
    "prediction = knn_predict(X_train, y_train, new_point, k)\n",
    "print(f\"Predicted class for {new_point}: {prediction}\")"
   ]
  },
  {
   "cell_type": "code",
   "execution_count": 1,
   "id": "63dcc232-9e23-4e9a-97c2-a1805ce98779",
   "metadata": {},
   "outputs": [
    {
     "name": "stdout",
     "output_type": "stream",
     "text": [
      "Test point [3 2] predicted label: 0\n",
      "Test point [7 6] predicted label: 1\n"
     ]
    }
   ],
   "source": [
    "import numpy as np\n",
    "from collections import Counter\n",
    "\n",
    "# Sample dataset (features and labels)\n",
    "# Let's create a simple 2D dataset for classification\n",
    "X_train = np.array([\n",
    "    [1, 2],\n",
    "    [2, 3],\n",
    "    [3, 1],\n",
    "    [6, 5],\n",
    "    [7, 7],\n",
    "    [8, 6]\n",
    "])\n",
    "y_train = np.array([0, 0, 0, 1, 1, 1])  # Labels: 0 or 1\n",
    "\n",
    "def euclidean_distance(a, b):\n",
    "    return np.sqrt(np.sum((a - b)**2))\n",
    "\n",
    "def knn_predict(X_train, y_train, x_test, k=3):\n",
    "    # Compute distances from x_test to all training points\n",
    "    distances = [euclidean_distance(x_test, x) for x in X_train]\n",
    "    \n",
    "    # Get the indices of k nearest neighbors\n",
    "    k_indices = np.argsort(distances)[:k]\n",
    "    \n",
    "    # Get the labels of k nearest neighbors\n",
    "    k_nearest_labels = y_train[k_indices]\n",
    "    \n",
    "    # Majority vote, return the most common label\n",
    "    most_common = Counter(k_nearest_labels).most_common(1)\n",
    "    return most_common[0][0]\n",
    "\n",
    "# Example test points\n",
    "X_test = np.array([\n",
    "    [3, 2],\n",
    "    [7, 6]\n",
    "])\n",
    "\n",
    "for point in X_test:\n",
    "    prediction = knn_predict(X_train, y_train, point, k=3)\n",
    "    print(f\"Test point {point} predicted label: {prediction}\")\n"
   ]
  },
  {
   "cell_type": "code",
   "execution_count": 3,
   "id": "4a780e3a-8987-465e-a69e-94ff5192b6e3",
   "metadata": {},
   "outputs": [
    {
     "name": "stdout",
     "output_type": "stream",
     "text": [
      "Test point [3 2 1] predicted label: 0\n",
      "Test point [7 6 4] predicted label: 1\n"
     ]
    }
   ],
   "source": [
    "import numpy as np\n",
    "from collections import Counter\n",
    "\n",
    "# 3D dataset (3 features)\n",
    "X_train = np.array([\n",
    "    [1, 2, 1],\n",
    "    [2, 3, 2],\n",
    "    [3, 1, 1],\n",
    "    [6, 5, 4],\n",
    "    [7, 7, 5],\n",
    "    [8, 6, 5]\n",
    "])\n",
    "y_train = np.array([0, 0, 0, 1, 1, 1])\n",
    "\n",
    "def euclidean_distance(a, b):\n",
    "    return np.sqrt(np.sum((a - b)**2))\n",
    "\n",
    "def knn_predict(X_train, y_train, x_test, k=3):\n",
    "    distances = [euclidean_distance(x_test, x) for x in X_train]\n",
    "    k_indices = np.argsort(distances)[:k]\n",
    "    k_nearest_labels = y_train[k_indices]\n",
    "    most_common = Counter(k_nearest_labels).most_common(1)\n",
    "    return most_common[0][0]\n",
    "\n",
    "X_test = np.array([\n",
    "    [3, 2, 1],\n",
    "    [7, 6, 4]\n",
    "])\n",
    "\n",
    "for point in X_test:\n",
    "    pred = knn_predict(X_train, y_train, point, k=3)\n",
    "    print(f\"Test point {point} predicted label: {pred}\")\n"
   ]
  },
  {
   "cell_type": "code",
   "execution_count": null,
   "id": "218669b5-3b59-4a02-a035-f2b5a1aa901f",
   "metadata": {},
   "outputs": [],
   "source": []
  }
 ],
 "metadata": {
  "kernelspec": {
   "display_name": "Python [conda env:base] *",
   "language": "python",
   "name": "conda-base-py"
  },
  "language_info": {
   "codemirror_mode": {
    "name": "ipython",
    "version": 3
   },
   "file_extension": ".py",
   "mimetype": "text/x-python",
   "name": "python",
   "nbconvert_exporter": "python",
   "pygments_lexer": "ipython3",
   "version": "3.12.7"
  }
 },
 "nbformat": 4,
 "nbformat_minor": 5
}
